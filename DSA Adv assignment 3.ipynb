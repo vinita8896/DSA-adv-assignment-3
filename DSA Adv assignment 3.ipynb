{
 "cells": [
  {
   "cell_type": "markdown",
   "id": "8a578491",
   "metadata": {},
   "source": [
    "# Implement Binary tree"
   ]
  },
  {
   "cell_type": "code",
   "execution_count": 1,
   "id": "86fa6b7a",
   "metadata": {},
   "outputs": [
    {
     "name": "stdout",
     "output_type": "stream",
     "text": [
      "In-order traversal:\n",
      "20 30 40 50 60 70 80 \n",
      "Pre-order traversal:\n",
      "50 30 20 40 70 60 80 \n",
      "Post-order traversal:\n",
      "20 40 30 60 80 70 50 \n",
      "Key 40 found in the tree.\n"
     ]
    }
   ],
   "source": [
    "class Node:\n",
    "    def __init__(self, key):\n",
    "        self.left = None\n",
    "        self.right = None\n",
    "        self.val = key\n",
    "\n",
    "def insert(root, key):\n",
    "    if root is None:\n",
    "        return Node(key)\n",
    "    else:\n",
    "        if key < root.val:\n",
    "            root.left = insert(root.left, key)\n",
    "        else:\n",
    "            root.right = insert(root.right, key)\n",
    "    return root\n",
    "\n",
    "def inorder_traversal(root):\n",
    "    if root:\n",
    "        inorder_traversal(root.left)\n",
    "        print(root.val, end=' ')\n",
    "        inorder_traversal(root.right)\n",
    "\n",
    "def preorder_traversal(root):\n",
    "    if root:\n",
    "        print(root.val, end=' ')\n",
    "        preorder_traversal(root.left)\n",
    "        preorder_traversal(root.right)\n",
    "\n",
    "def postorder_traversal(root):\n",
    "    if root:\n",
    "        postorder_traversal(root.left)\n",
    "        postorder_traversal(root.right)\n",
    "        print(root.val, end=' ')\n",
    "\n",
    "def search(root, key):\n",
    "    if root is None or root.val == key:\n",
    "        return root\n",
    "\n",
    "    if root.val < key:\n",
    "        return search(root.right, key)\n",
    "\n",
    "    return search(root.left, key)\n",
    "\n",
    "\n",
    "if __name__ == \"__main__\":\n",
    "    root = None\n",
    "    root = insert(root, 50)\n",
    "    insert(root, 30)\n",
    "    insert(root, 20)\n",
    "    insert(root, 40)\n",
    "    insert(root, 70)\n",
    "    insert(root, 60)\n",
    "    insert(root, 80)\n",
    "\n",
    "    print(\"In-order traversal:\")\n",
    "    inorder_traversal(root)\n",
    "\n",
    "    print(\"\\nPre-order traversal:\")\n",
    "    preorder_traversal(root)\n",
    "\n",
    "    print(\"\\nPost-order traversal:\")\n",
    "    postorder_traversal(root)\n",
    "\n",
    "    key_to_search = 40\n",
    "    result = search(root, key_to_search)\n",
    "    if result:\n",
    "        print(f\"\\nKey {key_to_search} found in the tree.\")\n",
    "    else:\n",
    "        print(f\"\\nKey {key_to_search} not found in the tree.\")\n"
   ]
  },
  {
   "cell_type": "markdown",
   "id": "71f49b99",
   "metadata": {},
   "source": [
    "# Find height of a given tree"
   ]
  },
  {
   "cell_type": "code",
   "execution_count": 2,
   "id": "9fda598c",
   "metadata": {},
   "outputs": [
    {
     "name": "stdout",
     "output_type": "stream",
     "text": [
      "The height of the tree is: 2\n"
     ]
    }
   ],
   "source": [
    "class Node:\n",
    "    def __init__(self, key):\n",
    "        self.left = None\n",
    "        self.right = None\n",
    "        self.val = key\n",
    "\n",
    "def find_height(root):\n",
    "    if root is None:\n",
    "        return -1  # Height of an empty tree is -1\n",
    "\n",
    "    left_height = find_height(root.left)\n",
    "    right_height = find_height(root.right)\n",
    "\n",
    "    # Return the maximum of left and right subtree heights, plus 1 for the current node\n",
    "    return max(left_height, right_height) + 1\n",
    "\n",
    "\n",
    "if __name__ == \"__main__\":\n",
    "    root = Node(1)\n",
    "    root.left = Node(2)\n",
    "    root.right = Node(3)\n",
    "    root.left.left = Node(4)\n",
    "    root.left.right = Node(5)\n",
    "    root.right.left = Node(6)\n",
    "    root.right.right = Node(7)\n",
    "\n",
    "    height = find_height(root)\n",
    "    print(f\"The height of the tree is: {height}\")\n"
   ]
  },
  {
   "cell_type": "markdown",
   "id": "390b8b72",
   "metadata": {},
   "source": [
    "# Perform Pre-order, Post-order, In-order traversal"
   ]
  },
  {
   "cell_type": "code",
   "execution_count": 3,
   "id": "5d64fe0e",
   "metadata": {},
   "outputs": [
    {
     "name": "stdout",
     "output_type": "stream",
     "text": [
      "In-order traversal:\n",
      "4 2 5 1 6 3 7 \n",
      "Pre-order traversal:\n",
      "1 2 4 5 3 6 7 \n",
      "Post-order traversal:\n",
      "4 5 2 6 7 3 1 "
     ]
    }
   ],
   "source": [
    "class Node:\n",
    "    def __init__(self, key):\n",
    "        self.left = None\n",
    "        self.right = None\n",
    "        self.val = key\n",
    "\n",
    "def inorder_traversal(root):\n",
    "    if root:\n",
    "        inorder_traversal(root.left)\n",
    "        print(root.val, end=' ')\n",
    "        inorder_traversal(root.right)\n",
    "\n",
    "def preorder_traversal(root):\n",
    "    if root:\n",
    "        print(root.val, end=' ')\n",
    "        preorder_traversal(root.left)\n",
    "        preorder_traversal(root.right)\n",
    "\n",
    "def postorder_traversal(root):\n",
    "    if root:\n",
    "        postorder_traversal(root.left)\n",
    "        postorder_traversal(root.right)\n",
    "        print(root.val, end=' ')\n",
    "\n",
    "\n",
    "if __name__ == \"__main__\":\n",
    "    root = Node(1)\n",
    "    root.left = Node(2)\n",
    "    root.right = Node(3)\n",
    "    root.left.left = Node(4)\n",
    "    root.left.right = Node(5)\n",
    "    root.right.left = Node(6)\n",
    "    root.right.right = Node(7)\n",
    "\n",
    "    print(\"In-order traversal:\")\n",
    "    inorder_traversal(root)\n",
    "\n",
    "    print(\"\\nPre-order traversal:\")\n",
    "    preorder_traversal(root)\n",
    "\n",
    "    print(\"\\nPost-order traversal:\")\n",
    "    postorder_traversal(root)\n"
   ]
  },
  {
   "cell_type": "markdown",
   "id": "659b4a5c",
   "metadata": {},
   "source": [
    "# Function to print all the leaves in a given binary tree"
   ]
  },
  {
   "cell_type": "code",
   "execution_count": 4,
   "id": "988b9f65",
   "metadata": {},
   "outputs": [
    {
     "name": "stdout",
     "output_type": "stream",
     "text": [
      "Leaf nodes in the binary tree:\n",
      "8 5 6 7 "
     ]
    }
   ],
   "source": [
    "class Node:\n",
    "    def __init__(self, key):\n",
    "        self.left = None\n",
    "        self.right = None\n",
    "        self.val = key\n",
    "\n",
    "def print_leaves(root):\n",
    "    if root:\n",
    "        if root.left is None and root.right is None:\n",
    "            print(root.val, end=' ')\n",
    "        else:\n",
    "            print_leaves(root.left)\n",
    "            print_leaves(root.right)\n",
    "\n",
    "\n",
    "if __name__ == \"__main__\":\n",
    "    root = Node(1)\n",
    "    root.left = Node(2)\n",
    "    root.right = Node(3)\n",
    "    root.left.left = Node(4)\n",
    "    root.left.right = Node(5)\n",
    "    root.right.left = Node(6)\n",
    "    root.right.right = Node(7)\n",
    "    root.left.left.left = Node(8)\n",
    "\n",
    "    print(\"Leaf nodes in the binary tree:\")\n",
    "    print_leaves(root)\n"
   ]
  },
  {
   "cell_type": "markdown",
   "id": "693f2546",
   "metadata": {},
   "source": [
    "# Implement BFS (Breath First Search) and DFS (Depth First Search)\n"
   ]
  },
  {
   "cell_type": "code",
   "execution_count": 5,
   "id": "f8006c48",
   "metadata": {},
   "outputs": [
    {
     "name": "stdout",
     "output_type": "stream",
     "text": [
      "Breadth-First Search (BFS):\n",
      "[0, 1, 2, 3]\n",
      "Depth-First Search (DFS):\n",
      "[0, 1, 2, 3]\n"
     ]
    }
   ],
   "source": [
    "from collections import defaultdict\n",
    "\n",
    "class Graph:\n",
    "    def __init__(self):\n",
    "        self.graph = defaultdict(list)\n",
    "\n",
    "    def add_edge(self, u, v):\n",
    "        self.graph[u].append(v)\n",
    "\n",
    "    def bfs(self, start):\n",
    "        visited = [False] * len(self.graph)\n",
    "        queue = []\n",
    "        result = []\n",
    "\n",
    "        visited[start] = True\n",
    "        queue.append(start)\n",
    "\n",
    "        while queue:\n",
    "            vertex = queue.pop(0)\n",
    "            result.append(vertex)\n",
    "\n",
    "            for neighbor in self.graph[vertex]:\n",
    "                if not visited[neighbor]:\n",
    "                    visited[neighbor] = True\n",
    "                    queue.append(neighbor)\n",
    "\n",
    "        return result\n",
    "\n",
    "    def dfs(self, start):\n",
    "        visited = [False] * len(self.graph)\n",
    "        result = []\n",
    "\n",
    "        def dfs_recursive(node):\n",
    "            visited[node] = True\n",
    "            result.append(node)\n",
    "\n",
    "            for neighbor in self.graph[node]:\n",
    "                if not visited[neighbor]:\n",
    "                    dfs_recursive(neighbor)\n",
    "\n",
    "        dfs_recursive(start)\n",
    "        return result\n",
    "\n",
    "\n",
    "if __name__ == \"__main__\":\n",
    "    g = Graph()\n",
    "    g.add_edge(0, 1)\n",
    "    g.add_edge(0, 2)\n",
    "    g.add_edge(1, 2)\n",
    "    g.add_edge(2, 0)\n",
    "    g.add_edge(2, 3)\n",
    "    g.add_edge(3, 3)\n",
    "\n",
    "    start_vertex = 0\n",
    "\n",
    "    print(\"Breadth-First Search (BFS):\")\n",
    "    bfs_result = g.bfs(start_vertex)\n",
    "    print(bfs_result)\n",
    "\n",
    "    print(\"Depth-First Search (DFS):\")\n",
    "    dfs_result = g.dfs(start_vertex)\n",
    "    print(dfs_result)\n"
   ]
  },
  {
   "cell_type": "markdown",
   "id": "7dd1d59d",
   "metadata": {},
   "source": [
    "# Find sum of all left leaves in a given Binary Tree"
   ]
  },
  {
   "cell_type": "code",
   "execution_count": 6,
   "id": "2195739a",
   "metadata": {},
   "outputs": [
    {
     "name": "stdout",
     "output_type": "stream",
     "text": [
      "Sum of all left leaves: 14\n"
     ]
    }
   ],
   "source": [
    "class Node:\n",
    "    def __init__(self, key):\n",
    "        self.left = None\n",
    "        self.right = None\n",
    "        self.val = key\n",
    "\n",
    "def sum_of_left_leaves(root):\n",
    "    if root is None:\n",
    "        return 0\n",
    "\n",
    "    if root.left and root.left.left is None and root.left.right is None:\n",
    "        return root.left.val + sum_of_left_leaves(root.right)\n",
    "\n",
    "    return sum_of_left_leaves(root.left) + sum_of_left_leaves(root.right)\n",
    "\n",
    "\n",
    "if __name__ == \"__main__\":\n",
    "    root = Node(1)\n",
    "    root.left = Node(2)\n",
    "    root.right = Node(3)\n",
    "    root.left.left = Node(4)\n",
    "    root.left.right = Node(5)\n",
    "    root.right.left = Node(6)\n",
    "    root.right.right = Node(7)\n",
    "    root.left.left.left = Node(8)\n",
    "\n",
    "    left_leaves_sum = sum_of_left_leaves(root)\n",
    "    print(\"Sum of all left leaves:\", left_leaves_sum)\n"
   ]
  },
  {
   "cell_type": "markdown",
   "id": "b2bc7fc2",
   "metadata": {},
   "source": [
    "# Find sum of all nodes of the given perfect binary tree"
   ]
  },
  {
   "cell_type": "code",
   "execution_count": 7,
   "id": "4df025f1",
   "metadata": {},
   "outputs": [
    {
     "name": "stdout",
     "output_type": "stream",
     "text": [
      "Sum of all nodes in the perfect binary tree: 28\n"
     ]
    }
   ],
   "source": [
    "class Node:\n",
    "    def __init__(self, key):\n",
    "        self.left = None\n",
    "        self.right = None\n",
    "        self.val = key\n",
    "\n",
    "def sum_of_nodes_perfect_tree(root):\n",
    "    if root is None:\n",
    "        return 0\n",
    "\n",
    "    # Calculate the sum of nodes in the left subtree (excluding the root)\n",
    "    left_sum = sum_of_nodes_perfect_tree(root.left)\n",
    "\n",
    "    # Calculate the sum of nodes in the right subtree (excluding the root)\n",
    "    right_sum = sum_of_nodes_perfect_tree(root.right)\n",
    "\n",
    "    # Add the value of the current root node to the sum\n",
    "    return root.val + left_sum + right_sum\n",
    "\n",
    "\n",
    "if __name__ == \"__main__\":\n",
    "    root = Node(1)\n",
    "    root.left = Node(2)\n",
    "    root.right = Node(3)\n",
    "    root.left.left = Node(4)\n",
    "    root.left.right = Node(5)\n",
    "    root.right.left = Node(6)\n",
    "    root.right.right = Node(7)\n",
    "\n",
    "    total_sum = sum_of_nodes_perfect_tree(root)\n",
    "    print(\"Sum of all nodes in the perfect binary tree:\", total_sum)\n"
   ]
  },
  {
   "cell_type": "markdown",
   "id": "2274f29a",
   "metadata": {},
   "source": [
    "# Count subtress that sum up to a given value x in a binary tree"
   ]
  },
  {
   "cell_type": "code",
   "execution_count": 8,
   "id": "4623206c",
   "metadata": {},
   "outputs": [
    {
     "name": "stdout",
     "output_type": "stream",
     "text": [
      "Number of subtrees with sum 10: 0\n"
     ]
    }
   ],
   "source": [
    "class Node:\n",
    "    def __init__(self, key):\n",
    "        self.left = None\n",
    "        self.right = None\n",
    "        self.val = key\n",
    "\n",
    "def count_subtrees_with_sum_x(root, x):\n",
    "    if root is None:\n",
    "        return 0\n",
    "\n",
    "    # Recursively count subtrees in the left and right subtrees\n",
    "    left_count = count_subtrees_with_sum_x(root.left, x)\n",
    "    right_count = count_subtrees_with_sum_x(root.right, x)\n",
    "\n",
    "    # Check if the current subtree (including root) sums up to x\n",
    "    if root.val + left_count + right_count == x:\n",
    "        return 1 + left_count + right_count\n",
    "    else:\n",
    "        return left_count + right_count\n",
    "\n",
    "\n",
    "if __name__ == \"__main__\":\n",
    "    root = Node(5)\n",
    "    root.left = Node(4)\n",
    "    root.right = Node(5)\n",
    "    root.left.left = Node(1)\n",
    "    root.left.right = Node(2)\n",
    "    root.right.right = Node(5)\n",
    "\n",
    "    x = 10\n",
    "\n",
    "    count = count_subtrees_with_sum_x(root, x)\n",
    "    print(f\"Number of subtrees with sum {x}: {count}\")\n"
   ]
  },
  {
   "cell_type": "markdown",
   "id": "4f0e3531",
   "metadata": {},
   "source": [
    "# Find maximum level sum in Binary Tree"
   ]
  },
  {
   "cell_type": "code",
   "execution_count": 9,
   "id": "b5d0e8d2",
   "metadata": {},
   "outputs": [
    {
     "name": "stdout",
     "output_type": "stream",
     "text": [
      "Maximum level sum in the binary tree: 17\n"
     ]
    }
   ],
   "source": [
    "from collections import deque\n",
    "\n",
    "class Node:\n",
    "    def __init__(self, key):\n",
    "        self.left = None\n",
    "        self.right = None\n",
    "        self.val = key\n",
    "\n",
    "def max_level_sum(root):\n",
    "    if root is None:\n",
    "        return 0\n",
    "\n",
    "    max_sum = float('-inf')  # Initialize with negative infinity\n",
    "    queue = deque([root])\n",
    "\n",
    "    while queue:\n",
    "        level_sum = 0\n",
    "        level_size = len(queue)\n",
    "\n",
    "        for _ in range(level_size):\n",
    "            node = queue.popleft()\n",
    "            level_sum += node.val\n",
    "\n",
    "            if node.left:\n",
    "                queue.append(node.left)\n",
    "            if node.right:\n",
    "                queue.append(node.right)\n",
    "\n",
    "        max_sum = max(max_sum, level_sum)\n",
    "\n",
    "    return max_sum\n",
    "\n",
    "\n",
    "if __name__ == \"__main__\":\n",
    "    root = Node(1)\n",
    "    root.left = Node(2)\n",
    "    root.right = Node(3)\n",
    "    root.left.left = Node(4)\n",
    "    root.left.right = Node(5)\n",
    "    root.right.right = Node(8)\n",
    "    root.right.right.left = Node(6)\n",
    "    root.right.right.right = Node(7)\n",
    "\n",
    "    max_sum = max_level_sum(root)\n",
    "    print(f\"Maximum level sum in the binary tree: {max_sum}\")\n"
   ]
  },
  {
   "cell_type": "markdown",
   "id": "6669005a",
   "metadata": {},
   "source": [
    "# Print the nodes at odd levels of a tree"
   ]
  },
  {
   "cell_type": "code",
   "execution_count": 1,
   "id": "28a47cd8",
   "metadata": {},
   "outputs": [
    {
     "name": "stdout",
     "output_type": "stream",
     "text": [
      "Nodes at odd levels:\n",
      "1\n",
      "4\n",
      "5\n",
      "6\n",
      "7\n"
     ]
    }
   ],
   "source": [
    "class TreeNode:\n",
    "    def __init__(self, value):\n",
    "        self.value = value\n",
    "        self.left = None\n",
    "        self.right = None\n",
    "\n",
    "def printNodesAtOddLevels(root):\n",
    "    if root is None:\n",
    "        return\n",
    "\n",
    "    # Initialize a queue for DFS traversal\n",
    "    queue = [(root, 1)]  # The second element in the tuple represents the level\n",
    "\n",
    "    while queue:\n",
    "        node, level = queue.pop(0)\n",
    "\n",
    "        # Check if the current level is odd\n",
    "        if level % 2 == 1:\n",
    "            print(node.value)\n",
    "\n",
    "        # Add child nodes to the queue with the incremented level\n",
    "        if node.left:\n",
    "            queue.append((node.left, level + 1))\n",
    "        if node.right:\n",
    "            queue.append((node.right, level + 1))\n",
    "\n",
    "\n",
    "# Create a binary tree\n",
    "root = TreeNode(1)\n",
    "root.left = TreeNode(2)\n",
    "root.right = TreeNode(3)\n",
    "root.left.left = TreeNode(4)\n",
    "root.left.right = TreeNode(5)\n",
    "root.right.left = TreeNode(6)\n",
    "root.right.right = TreeNode(7)\n",
    "\n",
    "print(\"Nodes at odd levels:\")\n",
    "printNodesAtOddLevels(root)\n"
   ]
  }
 ],
 "metadata": {
  "kernelspec": {
   "display_name": "Python 3 (ipykernel)",
   "language": "python",
   "name": "python3"
  },
  "language_info": {
   "codemirror_mode": {
    "name": "ipython",
    "version": 3
   },
   "file_extension": ".py",
   "mimetype": "text/x-python",
   "name": "python",
   "nbconvert_exporter": "python",
   "pygments_lexer": "ipython3",
   "version": "3.10.9"
  }
 },
 "nbformat": 4,
 "nbformat_minor": 5
}
